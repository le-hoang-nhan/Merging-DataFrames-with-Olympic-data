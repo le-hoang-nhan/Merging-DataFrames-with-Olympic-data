{
 "cells": [
  {
   "cell_type": "code",
   "execution_count": 2,
   "metadata": {
    "collapsed": true
   },
   "outputs": [
    {
     "name": "stdout",
     "output_type": "stream",
     "text": [
      "C:\\Users\\LE HOANG NHAN\\PycharmProjects\\merging-dataframes -- Olympic data\n['.idea', '.ipynb_checkpoints', 'auto-mpg.csv', 'axis_limits.png', 'Bruce_McCandless_II_during_EVA_in_1984.jpg', 'company-stock-movements-2010-2015-incl.csv', 'deep-learning-with-keras.ipynb', 'finch_beaks_1975.csv', 'finch_beaks_2012.csv', 'fish.csv', 'gapminder_tidy.csv', 'gm_2008_region.csv', 'hourly_wages.csv', 'house-votes-84.csv', 'Interactive Data Visualization with Bokeh.ipynb', 'iris.csv', 'lcd-digits.csv', 'merging-dataframes-- Olympic data.ipynb', 'percent-bachelors-degrees-women-usa.csv', 'Plotting 2D arrays.ipynb', 'seeds-width-vs-length.csv', 'seeds.csv', 'sine_mesh.png', \"statistic with Darwin's finches.ipynb\", 'stocks.csv', 'Summer Olympic medalists 1896 to 2008 - IOC COUNTRY CODES.csv', 'Summer Olympic medallists 1896 to 2008 - EDITIONS.csv', 'supervised-learning-with-scikit-learn.ipynb', 'unsupervised-learning.ipynb', 'venv', 'white-wine.csv', 'women degrees.ipynb', 'xlim_and_ylim.png']\n"
     ]
    }
   ],
   "source": [
    "import os \n",
    "import matplotlib.pyplot as plt\n",
    "import pandas as pd\n",
    "import numpy as np\n",
    "%matplotlib inline\n",
    "print(os.getcwd())\n",
    "print(os.listdir(os.getcwd()))"
   ]
  },
  {
   "cell_type": "code",
   "execution_count": 3,
   "metadata": {},
   "outputs": [
    {
     "name": "stdout",
     "output_type": "stream",
     "text": [
      "    Edition  Grand Total         City                     Country\n0      1896          151       Athens                      Greece\n1      1900          512        Paris                      France\n2      1904          470    St. Louis               United States\n3      1908          804       London              United Kingdom\n4      1912          885    Stockholm                      Sweden\n5      1920         1298      Antwerp                     Belgium\n6      1924          884        Paris                      France\n7      1928          710    Amsterdam                 Netherlands\n8      1932          615  Los Angeles               United States\n9      1936          875       Berlin                     Germany\n10     1948          814       London              United Kingdom\n11     1952          889     Helsinki                     Finland\n12     1956          885    Melbourne                   Australia\n13     1960          882         Rome                       Italy\n14     1964         1010        Tokyo                       Japan\n15     1968         1031  Mexico City                      Mexico\n16     1972         1185       Munich  West Germany (now Germany)\n17     1976         1305     Montreal                      Canada\n18     1980         1387       Moscow       U.S.S.R. (now Russia)\n19     1984         1459  Los Angeles               United States\n20     1988         1546        Seoul                 South Korea\n21     1992         1705    Barcelona                       Spain\n22     1996         1859      Atlanta               United States\n23     2000         2015       Sydney                   Australia\n24     2004         1998       Athens                      Greece\n25     2008         2042      Beijing                       China\n"
     ]
    }
   ],
   "source": [
    "# Create file path: file_path\n",
    "file_path = 'Summer Olympic medallists 1896 to 2008 - EDITIONS.csv'\n",
    "\n",
    "# Load DataFrame from file_path: editions\n",
    "editions = pd.read_csv(file_path)\n",
    "\n",
    "# Extract the relevant columns: editions\n",
    "editions = editions[['Edition', 'Grand Total', 'City',  'Country']]\n",
    "\n",
    "# Print editions DataFrame\n",
    "print(editions)"
   ]
  },
  {
   "cell_type": "code",
   "execution_count": 4,
   "metadata": {},
   "outputs": [
    {
     "name": "stdout",
     "output_type": "stream",
     "text": [
      "           Country  NOC\n0      Afghanistan  AFG\n1          Albania  ALB\n2          Algeria  ALG\n3  American Samoa*  ASA\n4          Andorra  AND\n             Country  NOC\n196          Vietnam  VIE\n197  Virgin Islands*  ISV\n198            Yemen  YEM\n199           Zambia  ZAM\n200         Zimbabwe  ZIM\n"
     ]
    }
   ],
   "source": [
    "#Loading IOC codes DataFrame\n",
    "\n",
    "# Create the file path: file_path\n",
    "file_path = 'Summer Olympic medalists 1896 to 2008 - IOC COUNTRY CODES.csv'\n",
    "\n",
    "# Load DataFrame from file_path: ioc_codes\n",
    "ioc_codes = pd.read_csv(file_path)\n",
    "\n",
    "# Extract the relevant columns: ioc_codes\n",
    "ioc_codes = ioc_codes[['Country', 'NOC']]\n",
    "\n",
    "# Print first and last 5 rows of ioc_codes\n",
    "print(ioc_codes.head())\n",
    "print(ioc_codes.tail())"
   ]
  },
  {
   "cell_type": "code",
   "execution_count": 11,
   "metadata": {},
   "outputs": [
    {
     "name": "stdout",
     "output_type": "stream",
     "text": [
      "              Athlete  NOC   Medal  Edition\n0       HAJOS, Alfred  HUN    Gold     1896\n1    HERSCHMANN, Otto  AUT  Silver     1896\n2   DRIVAS, Dimitrios  GRE  Bronze     1896\n3  MALOKINIS, Ioannis  GRE    Gold     1896\n4  CHASAPIS, Spiridon  GRE  Silver     1896\n                    Athlete  NOC   Medal  Edition\n29211        ENGLICH, Mirko  GER  Silver     2008\n29212  MIZGAITIS, Mindaugas  LTU  Bronze     2008\n29213       PATRIKEEV, Yuri  ARM  Bronze     2008\n29214         LOPEZ, Mijain  CUB    Gold     2008\n29215        BAROEV, Khasan  RUS  Silver     2008\n"
     ]
    }
   ],
   "source": [
    "# Building medals DataFrame\n",
    "\n",
    "all_medalists = pd.read_csv(\"Summer Olympic medalists 1896 to 2008 - ALL MEDALISTS.csv\")\n",
    "\n",
    "# Import pandas\n",
    "import pandas as pd\n",
    "\n",
    "# Create empty dictionary: medals_dict\n",
    "medals_dict = {}\n",
    "\n",
    "for year in editions['Edition']:\n",
    "  \n",
    "    # Load file_path into a DataFrame: medals_dict[year]\n",
    "    medals_dict[year] = all_medalists[all_medalists['Edition'] == year]\n",
    "    \n",
    "    # Extract relevant columns: medals_dict[year]\n",
    "    medals_dict[year] = medals_dict[year][['Athlete', 'NOC', 'Medal']]\n",
    "    \n",
    "    # Assign year to column 'Edition' of medals_dict\n",
    "    medals_dict[year]['Edition'] = year\n",
    "    \n",
    "# Concatenate medals_dict: medals\n",
    "medals = pd.concat(medals_dict,ignore_index=True)\n",
    "\n",
    "# Print first and last 5 rows of medals\n",
    "print(medals.head())\n",
    "print(medals.tail())"
   ]
  },
  {
   "cell_type": "code",
   "execution_count": 12,
   "metadata": {},
   "outputs": [
    {
     "name": "stdout",
     "output_type": "stream",
     "text": [
      "NOC      AFG  AHO  ALG   ANZ  ARG  ARM  AUS   AUT  AZE  BAH  ...  URS  URU  \\\nEdition                                                      ...             \n1896     NaN  NaN  NaN   NaN  NaN  NaN  2.0   5.0  NaN  NaN  ...  NaN  NaN   \n1900     NaN  NaN  NaN   NaN  NaN  NaN  5.0   6.0  NaN  NaN  ...  NaN  NaN   \n1904     NaN  NaN  NaN   NaN  NaN  NaN  NaN   1.0  NaN  NaN  ...  NaN  NaN   \n1908     NaN  NaN  NaN  19.0  NaN  NaN  NaN   1.0  NaN  NaN  ...  NaN  NaN   \n1912     NaN  NaN  NaN  10.0  NaN  NaN  NaN  14.0  NaN  NaN  ...  NaN  NaN   \n\nNOC        USA  UZB  VEN  VIE  YUG  ZAM  ZIM   ZZX  \nEdition                                             \n1896      20.0  NaN  NaN  NaN  NaN  NaN  NaN   6.0  \n1900      55.0  NaN  NaN  NaN  NaN  NaN  NaN  34.0  \n1904     394.0  NaN  NaN  NaN  NaN  NaN  NaN   8.0  \n1908      63.0  NaN  NaN  NaN  NaN  NaN  NaN   NaN  \n1912     101.0  NaN  NaN  NaN  NaN  NaN  NaN   NaN  \n\n[5 rows x 138 columns]\nNOC      AFG  AHO  ALG  ANZ   ARG  ARM    AUS  AUT  AZE  BAH  ...  URS  URU  \\\nEdition                                                       ...             \n1992     NaN  NaN  2.0  NaN   2.0  NaN   57.0  6.0  NaN  1.0  ...  NaN  NaN   \n1996     NaN  NaN  3.0  NaN  20.0  2.0  132.0  3.0  1.0  5.0  ...  NaN  NaN   \n2000     NaN  NaN  5.0  NaN  20.0  1.0  183.0  4.0  3.0  6.0  ...  NaN  1.0   \n2004     NaN  NaN  NaN  NaN  47.0  NaN  157.0  8.0  5.0  2.0  ...  NaN  NaN   \n2008     1.0  NaN  2.0  NaN  51.0  6.0  149.0  3.0  7.0  5.0  ...  NaN  NaN   \n\nNOC        USA  UZB  VEN  VIE   YUG  ZAM  ZIM  ZZX  \nEdition                                             \n1992     224.0  NaN  NaN  NaN   NaN  NaN  NaN  NaN  \n1996     260.0  2.0  NaN  NaN  26.0  1.0  NaN  NaN  \n2000     248.0  4.0  NaN  1.0  26.0  NaN  NaN  NaN  \n2004     264.0  5.0  2.0  NaN   NaN  NaN  3.0  NaN  \n2008     315.0  6.0  1.0  1.0   NaN  NaN  4.0  NaN  \n\n[5 rows x 138 columns]\n"
     ]
    }
   ],
   "source": [
    "#Counting medals by country/edition in a pivot table\n",
    "\n",
    "# Construct the pivot_table: medal_counts\n",
    "medal_counts = medals.pivot_table(index='Edition', values = 'Athlete', columns ='NOC' , aggfunc= \"count\")\n",
    "\n",
    "# Print the first & last 5 rows of medal_counts\n",
    "print(medal_counts.head())\n",
    "print(medal_counts.tail())"
   ]
  },
  {
   "cell_type": "code",
   "execution_count": 13,
   "metadata": {},
   "outputs": [
    {
     "name": "stdout",
     "output_type": "stream",
     "text": [
      "NOC      AFG  AHO  ALG       ANZ  ARG  ARM       AUS       AUT  AZE  BAH  ...  \\\nEdition                                                                   ...   \n1896     NaN  NaN  NaN       NaN  NaN  NaN  0.013245  0.033113  NaN  NaN  ...   \n1900     NaN  NaN  NaN       NaN  NaN  NaN  0.009766  0.011719  NaN  NaN  ...   \n1904     NaN  NaN  NaN       NaN  NaN  NaN       NaN  0.002128  NaN  NaN  ...   \n1908     NaN  NaN  NaN  0.023632  NaN  NaN       NaN  0.001244  NaN  NaN  ...   \n1912     NaN  NaN  NaN  0.011299  NaN  NaN       NaN  0.015819  NaN  NaN  ...   \n\nNOC      URS  URU       USA  UZB  VEN  VIE  YUG  ZAM  ZIM       ZZX  \nEdition                                                              \n1896     NaN  NaN  0.132450  NaN  NaN  NaN  NaN  NaN  NaN  0.039735  \n1900     NaN  NaN  0.107422  NaN  NaN  NaN  NaN  NaN  NaN  0.066406  \n1904     NaN  NaN  0.838298  NaN  NaN  NaN  NaN  NaN  NaN  0.017021  \n1908     NaN  NaN  0.078358  NaN  NaN  NaN  NaN  NaN  NaN       NaN  \n1912     NaN  NaN  0.114124  NaN  NaN  NaN  NaN  NaN  NaN       NaN  \n\n[5 rows x 138 columns]\nNOC          AFG  AHO       ALG  ANZ       ARG       ARM       AUS       AUT  \\\nEdition                                                                        \n1992         NaN  NaN  0.001173  NaN  0.001173       NaN  0.033431  0.003519   \n1996         NaN  NaN  0.001614  NaN  0.010758  0.001076  0.071006  0.001614   \n2000         NaN  NaN  0.002481  NaN  0.009926  0.000496  0.090819  0.001985   \n2004         NaN  NaN       NaN  NaN  0.023524       NaN  0.078579  0.004004   \n2008     0.00049  NaN  0.000979  NaN  0.024976  0.002938  0.072968  0.001469   \n\nNOC           AZE       BAH  ...  URS       URU       USA       UZB       VEN  \\\nEdition                      ...                                                \n1992          NaN  0.000587  ...  NaN       NaN  0.131378       NaN       NaN   \n1996     0.000538  0.002690  ...  NaN       NaN  0.139860  0.001076       NaN   \n2000     0.001489  0.002978  ...  NaN  0.000496  0.123077  0.001985       NaN   \n2004     0.002503  0.001001  ...  NaN       NaN  0.132132  0.002503  0.001001   \n2008     0.003428  0.002449  ...  NaN       NaN  0.154261  0.002938  0.000490   \n\nNOC           VIE       YUG       ZAM       ZIM  ZZX  \nEdition                                               \n1992          NaN       NaN       NaN       NaN  NaN  \n1996          NaN  0.013986  0.000538       NaN  NaN  \n2000     0.000496  0.012903       NaN       NaN  NaN  \n2004          NaN       NaN       NaN  0.001502  NaN  \n2008     0.000490       NaN       NaN  0.001959  NaN  \n\n[5 rows x 138 columns]\n"
     ]
    }
   ],
   "source": [
    "#Computing fraction of medals per Olympic edition\n",
    "\n",
    "# Set Index of editions: totals\n",
    "totals = editions.set_index('Edition')\n",
    "\n",
    "# Reassign totals['Grand Total']: totals\n",
    "totals = totals['Grand Total']\n",
    "\n",
    "# Divide medal_counts by totals: fractions\n",
    "fractions = medal_counts.divide(totals, axis='rows')\n",
    "\n",
    "# Print first & last 5 rows of fractions\n",
    "print(fractions.head())\n",
    "print(fractions.tail())"
   ]
  },
  {
   "cell_type": "code",
   "execution_count": 14,
   "metadata": {},
   "outputs": [
    {
     "name": "stdout",
     "output_type": "stream",
     "text": [
      "NOC  Edition  AFG  AHO  ALG        ANZ  ARG  ARM        AUS        AUT  AZE  \\\n0       1896  NaN  NaN  NaN        NaN  NaN  NaN        NaN        NaN  NaN   \n1       1900  NaN  NaN  NaN        NaN  NaN  NaN -13.134766 -32.304688  NaN   \n2       1904  NaN  NaN  NaN        NaN  NaN  NaN   0.000000 -30.169386  NaN   \n3       1908  NaN  NaN  NaN        NaN  NaN  NaN   0.000000 -23.013510  NaN   \n4       1912  NaN  NaN  NaN -26.092774  NaN  NaN   0.000000   6.254438  NaN   \n\nNOC  ...  URS  URU         USA  UZB  VEN  VIE  YUG  ZAM  ZIM        ZZX  \n0    ...  NaN  NaN         NaN  NaN  NaN  NaN  NaN  NaN  NaN        NaN  \n1    ...  NaN  NaN   -9.448242  NaN  NaN  NaN  NaN  NaN  NaN  33.561198  \n2    ...  NaN  NaN  199.651245  NaN  NaN  NaN  NaN  NaN  NaN -22.642384  \n3    ...  NaN  NaN  -19.549222  NaN  NaN  NaN  NaN  NaN  NaN   0.000000  \n4    ...  NaN  NaN  -12.105733  NaN  NaN  NaN  NaN  NaN  NaN   0.000000  \n\n[5 rows x 139 columns]\nNOC  Edition  AFG  AHO        ALG  ANZ       ARG        ARM        AUS  \\\n21      1992  NaN  0.0  -7.214076  0.0 -6.767308        NaN   2.754114   \n22      1996  NaN  0.0   8.959211  0.0  1.306696        NaN  10.743275   \n23      2000  NaN  0.0  19.762488  0.0  0.515190 -26.935484  12.554986   \n24      2004  NaN  0.0   0.000000  0.0  9.625365   0.000000   8.161162   \n25      2008  NaN  0.0  -8.197807  0.0  8.588555  91.266408   6.086870   \n\nNOC       AUT        AZE  ...  URS        URU       USA        UZB       VEN  \\\n21  -3.034840        NaN  ...  0.0   0.000000 -1.329330        NaN  0.000000   \n22  -3.876773        NaN  ...  0.0   0.000000 -1.010378        NaN  0.000000   \n23  -3.464221  88.387097  ...  0.0 -12.025323 -1.341842  42.258065  0.000000   \n24  -2.186922  48.982144  ...  0.0   0.000000 -1.031922  21.170339 -1.615969   \n25  -3.389836  31.764436  ...  0.0   0.000000 -0.450031  14.610625 -6.987342   \n\nNOC       VIE       YUG        ZAM        ZIM  ZZX  \n21        NaN  0.000000   0.000000   0.000000  0.0  \n22        NaN -2.667732 -10.758472   0.000000  0.0  \n23        NaN -2.696445   0.000000   0.000000  0.0  \n24   0.000000  0.000000   0.000000 -43.491929  0.0  \n25  -0.661117  0.000000   0.000000 -23.316533  0.0  \n\n[5 rows x 139 columns]\n"
     ]
    }
   ],
   "source": [
    "#Computing percentage change in fraction of medals won\n",
    "\n",
    "# Apply the expanding mean: mean_fractions\n",
    "mean_fractions = fractions.expanding().mean()\n",
    "\n",
    "# Compute the percentage change: fractions_change\n",
    "fractions_change = mean_fractions.pct_change()*100\n",
    "\n",
    "# Reset the index of fractions_change: fractions_change\n",
    "fractions_change = fractions_change.reset_index()\n",
    "\n",
    "# Print first & last 5 rows of fractions_change\n",
    "print(fractions_change.head())\n",
    "print(fractions_change.tail())"
   ]
  },
  {
   "cell_type": "code",
   "execution_count": 15,
   "metadata": {},
   "outputs": [
    {
     "name": "stdout",
     "output_type": "stream",
     "text": [
      "         NOC\nEdition     \n1972     NaN\n1980     NaN\n1988     NaN\n    Edition  NOC\n0      1896  GRE\n1      1900  FRA\n2      1904  USA\n3      1908  GBR\n4      1912  SWE\n5      1920  BEL\n6      1924  FRA\n7      1928  NED\n8      1932  USA\n9      1936  GER\n10     1948  GBR\n11     1952  FIN\n12     1956  AUS\n13     1960  ITA\n14     1964  JPN\n15     1968  MEX\n16     1972  FRG\n17     1976  CAN\n18     1980  URS\n19     1984  USA\n20     1988  KOR\n21     1992  ESP\n22     1996  USA\n23     2000  AUS\n24     2004  GRE\n25     2008  CHN\n"
     ]
    }
   ],
   "source": [
    "#Building hosts DataFrame\n",
    "\n",
    "\n",
    "# Left join editions and ioc_codes: hosts\n",
    "hosts = pd.merge(editions , ioc_codes, how=\"left\")\n",
    "\n",
    "# Extract relevant columns and set index: hosts\n",
    "hosts = hosts[['Edition' , 'NOC']].set_index('Edition')\n",
    "\n",
    "# Fix missing 'NOC' values of hosts\n",
    "print(hosts.loc[hosts.NOC.isnull()])\n",
    "hosts.loc[1972, 'NOC'] = 'FRG'\n",
    "hosts.loc[1980, 'NOC'] = 'URS'\n",
    "hosts.loc[1988, 'NOC'] = 'KOR'\n",
    "\n",
    "# Reset Index of hosts: hosts\n",
    "hosts= hosts.reset_index()\n",
    "\n",
    "# Print hosts\n",
    "print(hosts)"
   ]
  },
  {
   "cell_type": "code",
   "execution_count": 16,
   "metadata": {},
   "outputs": [
    {
     "name": "stdout",
     "output_type": "stream",
     "text": [
      "(3588, 3) (26, 139)\n     Edition  NOC     Change\n567     1992  CHN   4.240630\n568     1996  CHN   7.860247\n569     2000  CHN  -3.851278\n570     2004  CHN   0.128863\n571     2008  CHN  13.251332\n"
     ]
    }
   ],
   "source": [
    "#Reshaping for analysis\n",
    "\n",
    "\n",
    "# Reshape fractions_change: reshaped\n",
    "reshaped = pd.melt(fractions_change, id_vars='Edition', value_name='Change')\n",
    "\n",
    "# Print reshaped.shape and fractions_change.shape\n",
    "print(reshaped.shape, fractions_change.shape)\n",
    "\n",
    "# Extract rows from reshaped where 'NOC' == 'CHN': chn\n",
    "chn = reshaped.loc[reshaped['NOC']== 'CHN']\n",
    "\n",
    "# Print last 5 rows of chn with .tail()\n",
    "print(chn.tail())"
   ]
  },
  {
   "cell_type": "code",
   "execution_count": 19,
   "metadata": {},
   "outputs": [
    {
     "name": "stdout",
     "output_type": "stream",
     "text": [
      "   Edition  NOC     Change\n0     1956  AUS  54.615063\n1     2000  AUS  12.554986\n2     1920  BEL  54.757887\n3     1976  CAN  -2.143977\n4     2008  CHN  13.251332\n         NOC      Change\nEdition                 \n1896     GRE         NaN\n1900     FRA  198.002486\n1904     USA  199.651245\n1908     GBR  134.489218\n1912     SWE   71.896226\n"
     ]
    }
   ],
   "source": [
    "#Merging to compute influence:\n",
    "#fractional change in the expanding mean of the percentage of \n",
    "#medals won for the host country in each Olympic edition.\n",
    "\n",
    "\n",
    "# Merge reshaped and hosts: merged\n",
    "merged = pd.merge(reshaped , hosts, how='inner')\n",
    "\n",
    "# Print first 5 rows of merged\n",
    "print(merged.head())\n",
    "\n",
    "# Set Index of merged and sort it: influence\n",
    "influence = merged.set_index('Edition').sort_index()\n",
    "\n",
    "# Print first 5 rows of influence\n",
    "print(influence.head())"
   ]
  },
  {
   "cell_type": "code",
   "execution_count": 20,
   "metadata": {},
   "outputs": [
    {
     "data": {
      "image/png": "[encoded data removed]",
      "text/plain": [
       "<Figure size 432x288 with 1 Axes>"
      ]
     },
     "metadata": {},
     "output_type": "display_data"
    }
   ],
   "source": [
    "#Plotting influence of host country\n",
    "\n",
    "# Import pyplot\n",
    "import matplotlib.pyplot as plt\n",
    "\n",
    "# Extract influence['Change']: change\n",
    "change = influence['Change']\n",
    "\n",
    "# Make bar plot of change: ax\n",
    "ax = change.plot(kind='bar')\n",
    "\n",
    "# Customize the plot to improve readability\n",
    "ax.set_ylabel(\"% Change of Host Country Medal Count\")\n",
    "ax.set_title(\"Is there a Host Country Advantage?\")\n",
    "ax.set_xticklabels(editions['City'])\n",
    "\n",
    "# Display the plot\n",
    "plt.show()"
   ]
  },
  {
   "cell_type": "code",
   "execution_count": null,
   "metadata": {},
   "outputs": [],
   "source": []
  }
 ],
 "metadata": {
  "kernelspec": {
   "display_name": "Python 2",
   "language": "python",
   "name": "python2"
  },
  "language_info": {
   "codemirror_mode": {
    "name": "ipython",
    "version": 2
   },
   "file_extension": ".py",
   "mimetype": "text/x-python",
   "name": "python",
   "nbconvert_exporter": "python",
   "pygments_lexer": "ipython2",
   "version": "2.7.6"
  }
 },
 "nbformat": 4,
 "nbformat_minor": 0
}
